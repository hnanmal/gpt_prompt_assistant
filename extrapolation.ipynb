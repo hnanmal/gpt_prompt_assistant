{
 "cells": [
  {
   "cell_type": "code",
   "execution_count": 10,
   "id": "d360fd60",
   "metadata": {},
   "outputs": [],
   "source": [
    "# %pip install numpy"
   ]
  },
  {
   "cell_type": "code",
   "execution_count": null,
   "id": "e5645703",
   "metadata": {},
   "outputs": [],
   "source": [
    "import math\n",
    "import numpy\n",
    "\n",
    "def get_bracketing_indices(coords, target):\n",
    "    if target <= coords[0]:\n",
    "        return 0, 1\n",
    "    elif target >= coords[-1]:\n",
    "        return -2, -1\n",
    "    else:\n",
    "        for i in range(1, len(coords)):\n",
    "            if coords[i - 1] <= target <= coords[i]:\n",
    "                return i - 1, i\n",
    "    raise ValueError(\"Target out of bounds\")\n",
    "\n",
    "def linear_interp(x0, x1, y0, y1, x):\n",
    "    return y0 + (y1 - y0) * (x - x0) / (x1 - x0)\n",
    "\n",
    "def log_interp(x0, x1, y0, y1, x):\n",
    "    if x0 > 0 and x1 > 0 and x > 0:\n",
    "        lx0, lx1, lx = math.log(x0), math.log(x1), math.log(x)\n",
    "        return y0 + (y1 - y0) * (lx - lx0) / (lx1 - lx0)\n",
    "    else:\n",
    "        return linear_interp(x0, x1, y0, y1, x)\n",
    "\n",
    "def polyfit_interp(xs, ys, x):\n",
    "    # 최소제곱 2차 다항 보간\n",
    "    n = len(xs)\n",
    "    sum_x = sum(xs)\n",
    "    sum_x2 = sum(xi**2 for xi in xs)\n",
    "    sum_x3 = sum(xi**3 for xi in xs)\n",
    "    sum_x4 = sum(xi**4 for xi in xs)\n",
    "    sum_y = sum(ys)\n",
    "    sum_xy = sum(xi * yi for xi, yi in zip(xs, ys))\n",
    "    sum_x2y = sum((xi**2) * yi for xi, yi in zip(xs, ys))\n",
    "\n",
    "    # 방정식 행렬 구성\n",
    "    A = [\n",
    "        [n, sum_x, sum_x2],\n",
    "        [sum_x, sum_x2, sum_x3],\n",
    "        [sum_x2, sum_x3, sum_x4]\n",
    "    ]\n",
    "    B = [sum_y, sum_xy, sum_x2y]\n",
    "\n",
    "    # 가우스 소거법 (간단한 3x3 해법)\n",
    "    from numpy.linalg import solve\n",
    "    a0, a1, a2 = solve(A, B)\n",
    "    return a0 + a1 * x + a2 * x ** 2"
   ]
  },
  {
   "cell_type": "code",
   "execution_count": 3,
   "id": "95c56847",
   "metadata": {},
   "outputs": [],
   "source": [
    "def linear_extrapolate_2d(x_coords, values_with_y, x_target, y_target):\n",
    "    y_coords = [row[0] for row in values_with_y]\n",
    "\n",
    "    def interp_y(col_idx):\n",
    "        points = [(y_coords[i], values_with_y[i][col_idx]) for i in range(len(y_coords))]\n",
    "        i0, i1 = get_bracketing_indices(y_coords, y_target)\n",
    "        y0, v0 = points[i0]\n",
    "        y1, v1 = points[i1]\n",
    "        return linear_interp(y0, y1, v0, v1, y_target)\n",
    "\n",
    "    i0, i1 = get_bracketing_indices(x_coords, x_target)\n",
    "    x0, x1 = x_coords[i0], x_coords[i1]\n",
    "    v0 = interp_y(i0)\n",
    "    v1 = interp_y(i1)\n",
    "    return linear_interp(x0, x1, v0, v1, x_target)\n"
   ]
  },
  {
   "cell_type": "code",
   "execution_count": 4,
   "id": "5e2b68ba",
   "metadata": {},
   "outputs": [],
   "source": [
    "def log_extrapolate_2d(x_coords, values_with_y, x_target, y_target):\n",
    "    y_coords = [row[0] for row in values_with_y]\n",
    "\n",
    "    def interp_y(col_idx):\n",
    "        points = [(y_coords[i], values_with_y[i][col_idx]) for i in range(len(y_coords))]\n",
    "        i0, i1 = get_bracketing_indices(y_coords, y_target)\n",
    "        y0, v0 = points[i0]\n",
    "        y1, v1 = points[i1]\n",
    "        return log_interp(y0, y1, v0, v1, y_target)\n",
    "\n",
    "    i0, i1 = get_bracketing_indices(x_coords, x_target)\n",
    "    x0, x1 = x_coords[i0], x_coords[i1]\n",
    "    v0 = interp_y(i0)\n",
    "    v1 = interp_y(i1)\n",
    "    return log_interp(x0, x1, v0, v1, x_target)\n"
   ]
  },
  {
   "cell_type": "code",
   "execution_count": 5,
   "id": "3978f08a",
   "metadata": {},
   "outputs": [],
   "source": [
    "def polyfit_extrapolate_2d(x_coords, values_with_y, x_target, y_target):\n",
    "    y_coords = [row[0] for row in values_with_y]\n",
    "\n",
    "    def interp_y(col_idx):\n",
    "        y_vals = [row[col_idx] for row in values_with_y]\n",
    "        return polyfit_interp(y_coords[-3:], y_vals[-3:], y_target)\n",
    "\n",
    "    y_values = [interp_y(i) for i in range(len(x_coords))]\n",
    "    return polyfit_interp(x_coords[-3:], y_values[-3:], x_target)\n"
   ]
  },
  {
   "cell_type": "code",
   "execution_count": 6,
   "id": "c6d38d3e",
   "metadata": {},
   "outputs": [],
   "source": [
    "def compare_extrapolation_methods(x_coords, y_matrix, x_target, y_target):\n",
    "    lin = linear_extrapolate_2d(x_coords, y_matrix, x_target, y_target)\n",
    "    log = log_extrapolate_2d(x_coords, y_matrix, x_target, y_target)\n",
    "    poly = polyfit_extrapolate_2d(x_coords, y_matrix, x_target, y_target)\n",
    "\n",
    "    print(f\"x = {x_target}, y = {y_target}\")\n",
    "    print(f\"Linear   → {round(lin, 5)}\")\n",
    "    print(f\"Log      → {round(log, 5)}\")\n",
    "    print(f\"Polyfit  → {round(poly, 5)}\")\n"
   ]
  },
  {
   "cell_type": "code",
   "execution_count": 7,
   "id": "969387c9",
   "metadata": {},
   "outputs": [],
   "source": [
    "wt = 1000 # weight of TNT equiv. in kgf (shoud be calculated based on R_dist & Pso1)\n",
    "Wt = wt * 2.205 # weight of TNT equiv. in lbf (or shoud be calculated based on R_dist * 0.0032808 & PSO1)\n",
    " \n",
    "# UFC 3-340-02 Figure 2-197\n",
    "incident_OP = [0, 2, 4, 8, 16, 32]\n",
    "rise_T = [\n",
    "    [0.508005727, 3.659968582, 2.402535523, 1.569320331, 1.014967254, 0.645156521],\n",
    "    [0.53821332, 3.723957592, 2.456675892, 1.596757521, 1.035272644, 0.654812742],\n",
    "    [0.574349177, 3.770347843, 2.505824042, 1.624674409, 1.058602182, 0.667912897],\n",
    "    [0.633609849, 3.807875783, 2.555955448, 1.661285927, 1.087831193, 0.684657255],\n",
    "    [0.693956274, 3.807875783, 2.575012223, 1.69452154, 1.109594296, 0.698354478],\n",
    "    [0.780065226, 3.742444802, 2.562291984, 1.724147684, 1.128993873, 0.708806927],\n",
    "    [0.870550563, 3.623898318, 2.518263951, 1.741308888, 1.134598648, 0.712325727],\n",
    "    [0.960372945, 3.483137251, 2.44454022, 1.73270704, 1.128993873, 0.70705405],\n",
    "    [1.027816939, 3.356143416, 2.3788577, 1.715630609, 1.117867245, 0.700085787],\n",
    "    [1.132229695, 3.146891076, 2.263923223, 1.673672196, 1.087831193, 0.681275133],\n",
    "    [1.234705237, 2.950685419, 2.149213633, 1.608662678, 1.053372819, 0.656436106],\n",
    "    [1.334839854, 2.753045781, 2.035270512, 1.534735557, 1.012457245, 0.627821766],\n",
    "    [1.451455157, 2.537039705, 1.898946211, 1.439046259, 0.958780618, 0.591600108],\n",
    "    [1.591992273, 2.292125469, 1.745625813, 1.322858057, 0.890141588, 0.546534288],\n",
    "    [1.731073122, 2.075988045, 1.600716085, 1.21004372, 0.820300399, 0.49992543],\n",
    "    [1.866065983, 1.880231436, 1.471474706, 1.115102765, 0.754069569, 0.455032448],\n",
    "    [1.965641197, 1.74995344, 1.383150186, 1.050767833, 0.70705405, 0.423504034],\n",
    "]\n",
    " \n"
   ]
  },
  {
   "cell_type": "code",
   "execution_count": 11,
   "id": "ab459441",
   "metadata": {},
   "outputs": [
    {
     "name": "stdout",
     "output_type": "stream",
     "text": [
      "x = 10.8, y = 2.71\n",
      "Linear   → 0.49486\n",
      "Log      → 0.55086\n",
      "Polyfit  → 0.59425\n"
     ]
    }
   ],
   "source": [
    "compare_extrapolation_methods(incident_OP, rise_T, x_target=10.8, y_target=2.71)"
   ]
  },
  {
   "cell_type": "code",
   "execution_count": null,
   "id": "0710aeff",
   "metadata": {},
   "outputs": [
    {
     "ename": "NameError",
     "evalue": "name 'linear_interpolate_2d_with_log_extrapolation' is not defined",
     "output_type": "error",
     "traceback": [
      "\u001b[1;31m---------------------------------------------------------------------------\u001b[0m",
      "\u001b[1;31mNameError\u001b[0m                                 Traceback (most recent call last)",
      "Cell \u001b[1;32mIn[9], line 1\u001b[0m\n\u001b[1;32m----> 1\u001b[0m scaled_RT \u001b[38;5;241m=\u001b[39m \u001b[38;5;28mround\u001b[39m(\u001b[43mlinear_interpolate_2d_with_log_extrapolation\u001b[49m(incident_OP, rise_T, \u001b[38;5;241m100\u001b[39m, \u001b[38;5;241m4.2\u001b[39m), \u001b[38;5;241m5\u001b[39m)\n\u001b[0;32m      2\u001b[0m \u001b[38;5;28mprint\u001b[39m(\u001b[38;5;124m\"\u001b[39m\u001b[38;5;124mScaled Rise Time:\u001b[39m\u001b[38;5;124m\"\u001b[39m, scaled_RT)\n\u001b[0;32m      3\u001b[0m \u001b[38;5;28mprint\u001b[39m(\u001b[38;5;124m\"\u001b[39m\u001b[38;5;124mRise Time:\u001b[39m\u001b[38;5;124m\"\u001b[39m, \u001b[38;5;28mround\u001b[39m(scaled_RT \u001b[38;5;241m*\u001b[39m Wt\u001b[38;5;241m*\u001b[39m\u001b[38;5;241m*\u001b[39m(\u001b[38;5;241m1\u001b[39m\u001b[38;5;241m/\u001b[39m\u001b[38;5;241m3\u001b[39m), \u001b[38;5;241m3\u001b[39m), \u001b[38;5;124m\"\u001b[39m\u001b[38;5;124mms\u001b[39m\u001b[38;5;124m\"\u001b[39m)\n",
      "\u001b[1;31mNameError\u001b[0m: name 'linear_interpolate_2d_with_log_extrapolation' is not defined"
     ]
    }
   ],
   "source": [
    "# scaled_RT = round(linear_interpolate_2d_with_log_extrapolation(incident_OP, rise_T, 100, 4.2), 5)\n",
    "# print(\"Scaled Rise Time:\", scaled_RT)\n",
    "# print(\"Rise Time:\", round(scaled_RT * Wt**(1/3), 3), \"ms\")\n"
   ]
  },
  {
   "cell_type": "code",
   "execution_count": null,
   "id": "4c9d69d3",
   "metadata": {},
   "outputs": [],
   "source": []
  }
 ],
 "metadata": {
  "kernelspec": {
   "display_name": "Python 3",
   "language": "python",
   "name": "python3"
  },
  "language_info": {
   "codemirror_mode": {
    "name": "ipython",
    "version": 3
   },
   "file_extension": ".py",
   "mimetype": "text/x-python",
   "name": "python",
   "nbconvert_exporter": "python",
   "pygments_lexer": "ipython3",
   "version": "3.9.6"
  }
 },
 "nbformat": 4,
 "nbformat_minor": 5
}
